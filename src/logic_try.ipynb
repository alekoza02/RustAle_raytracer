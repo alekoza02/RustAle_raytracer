{
 "cells": [
  {
   "cell_type": "code",
   "execution_count": 13,
   "metadata": {},
   "outputs": [
    {
     "name": "stdout",
     "output_type": "stream",
     "text": [
      "prima      : [0 1 2 3 4 5 6 7 8 9]\n",
      "dopo       : [0 1 2 3 5 6 7 8 9 0]\n"
     ]
    }
   ],
   "source": [
    "import numpy as np\n",
    "\n",
    "x = np.array([i for i in range(10)])\n",
    "print(f\"{'prima ':<10} : {x}\")\n",
    "\n",
    "x[4:-1] = x[5:]\n",
    "\n",
    "x[-1] = 0\n",
    "\n",
    "print(f\"{'dopo ':<10} : {x}\")"
   ]
  }
 ],
 "metadata": {
  "kernelspec": {
   "display_name": "Python 3",
   "language": "python",
   "name": "python3"
  },
  "language_info": {
   "codemirror_mode": {
    "name": "ipython",
    "version": 3
   },
   "file_extension": ".py",
   "mimetype": "text/x-python",
   "name": "python",
   "nbconvert_exporter": "python",
   "pygments_lexer": "ipython3",
   "version": "3.11.5"
  }
 },
 "nbformat": 4,
 "nbformat_minor": 2
}
